{
 "cells": [
  {
   "cell_type": "code",
   "execution_count": null,
   "metadata": {},
   "outputs": [],
   "source": [
    "#Exercise 5: What is wrong with the following code:\n",
    "#1.14. EXERCISES 17\n",
    "#>>> primt 'Hello world!'\n",
    "#File \"<stdin>\", line 1\n",
    "#primt 'Hello world!'\n",
    "#^\n",
    "#SyntaxError: invalid syntax\n",
    "#>>>\n",
    "#\n",
    "\n",
    "#ANSWER: print is misspelled and Hello world should be in parenthesis following print like this\n",
    "print('Hello World!')"
   ]
  },
  {
   "cell_type": "code",
   "execution_count": 2,
   "metadata": {},
   "outputs": [
    {
     "name": "stdout",
     "output_type": "stream",
     "text": [
      "44\n"
     ]
    }
   ],
   "source": [
    "# #Exercise 7: What will the following program print out:\n",
    "# x = 43\n",
    "# x = x + 1\n",
    "# print(x)\n",
    "# a) 43\n",
    "# b) 44\n",
    "# c) x + 1\n",
    "# d) Error because x = x + 1 is not possible mathematically\n",
    "# # \n",
    "# ANSWER: It would print b\n",
    "\n",
    "x = 43\n",
    "x = x + 1\n",
    "print(x)\n",
    "\n"
   ]
  },
  {
   "cell_type": "code",
   "execution_count": 3,
   "metadata": {},
   "outputs": [],
   "source": [
    "# Exercise 9: How do you fix a “Syntax Error”?\n",
    "# ANSWER: A syntax error can have multiple sources, most of which involve improperly formatting code in Python."
   ]
  },
  {
   "cell_type": "code",
   "execution_count": null,
   "metadata": {},
   "outputs": [],
   "source": []
  }
 ],
 "metadata": {
  "kernelspec": {
   "display_name": "Python 3",
   "language": "python",
   "name": "python3"
  },
  "language_info": {
   "codemirror_mode": {
    "name": "ipython",
    "version": 3
   },
   "file_extension": ".py",
   "mimetype": "text/x-python",
   "name": "python",
   "nbconvert_exporter": "python",
   "pygments_lexer": "ipython3",
   "version": "3.6.7"
  }
 },
 "nbformat": 4,
 "nbformat_minor": 2
}
